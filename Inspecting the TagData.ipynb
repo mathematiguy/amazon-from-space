{
 "cells": [
  {
   "cell_type": "markdown",
   "metadata": {},
   "source": [
    "# Inspecting the Tag Data"
   ]
  },
  {
   "cell_type": "code",
   "execution_count": 2,
   "metadata": {
    "collapsed": true
   },
   "outputs": [],
   "source": [
    "import os, re\n",
    "import itertools as it\n",
    "import numpy as np\n",
    "import pandas as pd\n",
    "\n",
    "import matplotlib\n",
    "import matplotlib.pyplot as plt\n",
    "import seaborn as sns\n",
    "sns.set()\n",
    "% matplotlib inline\n",
    "matplotlib.rcParams['figure.figsize'] = (10.0, 10.0)"
   ]
  },
  {
   "cell_type": "markdown",
   "metadata": {},
   "source": [
    "## Reading in the Tag Data"
   ]
  },
  {
   "cell_type": "code",
   "execution_count": 3,
   "metadata": {
    "collapsed": false
   },
   "outputs": [],
   "source": [
    "labels_df = pd.read_csv('train_data/train_v2.csv')"
   ]
  },
  {
   "cell_type": "code",
   "execution_count": 4,
   "metadata": {
    "collapsed": false
   },
   "outputs": [
    {
     "data": {
      "text/html": [
       "<div>\n",
       "<table border=\"1\" class=\"dataframe\">\n",
       "  <thead>\n",
       "    <tr style=\"text-align: right;\">\n",
       "      <th></th>\n",
       "      <th>image_name</th>\n",
       "      <th>tags</th>\n",
       "    </tr>\n",
       "  </thead>\n",
       "  <tbody>\n",
       "    <tr>\n",
       "      <th>0</th>\n",
       "      <td>train_0</td>\n",
       "      <td>haze primary</td>\n",
       "    </tr>\n",
       "    <tr>\n",
       "      <th>1</th>\n",
       "      <td>train_1</td>\n",
       "      <td>agriculture clear primary water</td>\n",
       "    </tr>\n",
       "    <tr>\n",
       "      <th>2</th>\n",
       "      <td>train_2</td>\n",
       "      <td>clear primary</td>\n",
       "    </tr>\n",
       "    <tr>\n",
       "      <th>3</th>\n",
       "      <td>train_3</td>\n",
       "      <td>clear primary</td>\n",
       "    </tr>\n",
       "    <tr>\n",
       "      <th>4</th>\n",
       "      <td>train_4</td>\n",
       "      <td>agriculture clear habitation primary road</td>\n",
       "    </tr>\n",
       "  </tbody>\n",
       "</table>\n",
       "</div>"
      ],
      "text/plain": [
       "  image_name                                       tags\n",
       "0    train_0                               haze primary\n",
       "1    train_1            agriculture clear primary water\n",
       "2    train_2                              clear primary\n",
       "3    train_3                              clear primary\n",
       "4    train_4  agriculture clear habitation primary road"
      ]
     },
     "execution_count": 4,
     "metadata": {},
     "output_type": "execute_result"
    }
   ],
   "source": [
    "labels_df.head()"
   ]
  },
  {
   "cell_type": "markdown",
   "metadata": {},
   "source": [
    "Below we list all of the available tags:"
   ]
  },
  {
   "cell_type": "code",
   "execution_count": 5,
   "metadata": {
    "collapsed": false
   },
   "outputs": [
    {
     "name": "stdout",
     "output_type": "stream",
     "text": [
      "There are 17 tags in total: agriculture, artisinal_mine, bare_ground, blooming, blow_down, clear, cloudy, conventional_mine, cultivation, habitation, haze, partly_cloudy, primary, road, selective_logging, slash_burn, water\n"
     ]
    }
   ],
   "source": [
    "label_list = sorted(set(it.chain.from_iterable(\n",
    "                 labels_df.tags.apply(lambda s: s.split(\" \")))))\n",
    "print(\"There are %d tags in total:\" % len(label_list),\n",
    "      ', '.join(label_list))"
   ]
  },
  {
   "cell_type": "code",
   "execution_count": 6,
   "metadata": {
    "collapsed": false
   },
   "outputs": [
    {
     "name": "stdout",
     "output_type": "stream",
     "text": [
      "The image tags occur in 449 unique combinations\n"
     ]
    }
   ],
   "source": [
    "print(\"The image tags occur in %d unique combinations\"\n",
    "      % len(np.unique(labels_df.tags)))"
   ]
  },
  {
   "cell_type": "code",
   "execution_count": 7,
   "metadata": {
    "collapsed": false
   },
   "outputs": [
    {
     "data": {
      "text/plain": [
       "<matplotlib.text.Text at 0x7f7f5732fb70>"
      ]
     },
     "execution_count": 7,
     "metadata": {},
     "output_type": "execute_result"
    },
    {
     "data": {
      "image/png": "[encoded data removed]",
      "text/plain": [
       "<matplotlib.figure.Figure at 0x7f7f573746a0>"
      ]
     },
     "metadata": {},
     "output_type": "display_data"
    }
   ],
   "source": [
    "labels_df.tags\\\n",
    "         .apply(lambda s: len(s.split(\" \")))\\\n",
    "         .hist(bins=8)\n",
    "plt.title(\"Number of tags per image\")\n",
    "plt.ylabel(\"Frequency\")"
   ]
  },
  {
   "cell_type": "markdown",
   "metadata": {},
   "source": [
    "### Adding the file path to the data"
   ]
  },
  {
   "cell_type": "code",
   "execution_count": 8,
   "metadata": {
    "collapsed": false
   },
   "outputs": [],
   "source": [
    "labels_df['image_path'] = labels_df.image_name.apply(lambda f: os.path.join(\"train_data\", f + \".jpg\"))"
   ]
  },
  {
   "cell_type": "markdown",
   "metadata": {},
   "source": [
    "### Encode the Tags as One-Hot Features"
   ]
  },
  {
   "cell_type": "code",
   "execution_count": 9,
   "metadata": {
    "collapsed": true
   },
   "outputs": [],
   "source": [
    "for label in label_list:\n",
    "    labels_df[label] = labels_df['tags'].apply(\n",
    "                           lambda x: 1 if label in x.split(' ') else 0)"
   ]
  },
  {
   "cell_type": "markdown",
   "metadata": {},
   "source": [
    "### Reordering the Data Columns"
   ]
  },
  {
   "cell_type": "code",
   "execution_count": 10,
   "metadata": {
    "collapsed": false
   },
   "outputs": [
    {
     "data": {
      "text/html": [
       "<div>\n",
       "<table border=\"1\" class=\"dataframe\">\n",
       "  <thead>\n",
       "    <tr style=\"text-align: right;\">\n",
       "      <th></th>\n",
       "      <th>image_name</th>\n",
       "      <th>image_path</th>\n",
       "      <th>tags</th>\n",
       "      <th>agriculture</th>\n",
       "      <th>artisinal_mine</th>\n",
       "      <th>bare_ground</th>\n",
       "      <th>blooming</th>\n",
       "      <th>blow_down</th>\n",
       "      <th>clear</th>\n",
       "      <th>cloudy</th>\n",
       "      <th>conventional_mine</th>\n",
       "      <th>cultivation</th>\n",
       "      <th>habitation</th>\n",
       "      <th>haze</th>\n",
       "      <th>partly_cloudy</th>\n",
       "      <th>primary</th>\n",
       "      <th>road</th>\n",
       "      <th>selective_logging</th>\n",
       "      <th>slash_burn</th>\n",
       "      <th>water</th>\n",
       "    </tr>\n",
       "  </thead>\n",
       "  <tbody>\n",
       "    <tr>\n",
       "      <th>0</th>\n",
       "      <td>train_0</td>\n",
       "      <td>train_data/train_0.jpg</td>\n",
       "      <td>haze primary</td>\n",
       "      <td>0</td>\n",
       "      <td>0</td>\n",
       "      <td>0</td>\n",
       "      <td>0</td>\n",
       "      <td>0</td>\n",
       "      <td>0</td>\n",
       "      <td>0</td>\n",
       "      <td>0</td>\n",
       "      <td>0</td>\n",
       "      <td>0</td>\n",
       "      <td>1</td>\n",
       "      <td>0</td>\n",
       "      <td>1</td>\n",
       "      <td>0</td>\n",
       "      <td>0</td>\n",
       "      <td>0</td>\n",
       "      <td>0</td>\n",
       "    </tr>\n",
       "    <tr>\n",
       "      <th>1</th>\n",
       "      <td>train_1</td>\n",
       "      <td>train_data/train_1.jpg</td>\n",
       "      <td>agriculture clear primary water</td>\n",
       "      <td>1</td>\n",
       "      <td>0</td>\n",
       "      <td>0</td>\n",
       "      <td>0</td>\n",
       "      <td>0</td>\n",
       "      <td>1</td>\n",
       "      <td>0</td>\n",
       "      <td>0</td>\n",
       "      <td>0</td>\n",
       "      <td>0</td>\n",
       "      <td>0</td>\n",
       "      <td>0</td>\n",
       "      <td>1</td>\n",
       "      <td>0</td>\n",
       "      <td>0</td>\n",
       "      <td>0</td>\n",
       "      <td>1</td>\n",
       "    </tr>\n",
       "    <tr>\n",
       "      <th>2</th>\n",
       "      <td>train_2</td>\n",
       "      <td>train_data/train_2.jpg</td>\n",
       "      <td>clear primary</td>\n",
       "      <td>0</td>\n",
       "      <td>0</td>\n",
       "      <td>0</td>\n",
       "      <td>0</td>\n",
       "      <td>0</td>\n",
       "      <td>1</td>\n",
       "      <td>0</td>\n",
       "      <td>0</td>\n",
       "      <td>0</td>\n",
       "      <td>0</td>\n",
       "      <td>0</td>\n",
       "      <td>0</td>\n",
       "      <td>1</td>\n",
       "      <td>0</td>\n",
       "      <td>0</td>\n",
       "      <td>0</td>\n",
       "      <td>0</td>\n",
       "    </tr>\n",
       "    <tr>\n",
       "      <th>3</th>\n",
       "      <td>train_3</td>\n",
       "      <td>train_data/train_3.jpg</td>\n",
       "      <td>clear primary</td>\n",
       "      <td>0</td>\n",
       "      <td>0</td>\n",
       "      <td>0</td>\n",
       "      <td>0</td>\n",
       "      <td>0</td>\n",
       "      <td>1</td>\n",
       "      <td>0</td>\n",
       "      <td>0</td>\n",
       "      <td>0</td>\n",
       "      <td>0</td>\n",
       "      <td>0</td>\n",
       "      <td>0</td>\n",
       "      <td>1</td>\n",
       "      <td>0</td>\n",
       "      <td>0</td>\n",
       "      <td>0</td>\n",
       "      <td>0</td>\n",
       "    </tr>\n",
       "    <tr>\n",
       "      <th>4</th>\n",
       "      <td>train_4</td>\n",
       "      <td>train_data/train_4.jpg</td>\n",
       "      <td>agriculture clear habitation primary road</td>\n",
       "      <td>1</td>\n",
       "      <td>0</td>\n",
       "      <td>0</td>\n",
       "      <td>0</td>\n",
       "      <td>0</td>\n",
       "      <td>1</td>\n",
       "      <td>0</td>\n",
       "      <td>0</td>\n",
       "      <td>0</td>\n",
       "      <td>1</td>\n",
       "      <td>0</td>\n",
       "      <td>0</td>\n",
       "      <td>1</td>\n",
       "      <td>1</td>\n",
       "      <td>0</td>\n",
       "      <td>0</td>\n",
       "      <td>0</td>\n",
       "    </tr>\n",
       "  </tbody>\n",
       "</table>\n",
       "</div>"
      ],
      "text/plain": [
       "  image_name              image_path  \\\n",
       "0    train_0  train_data/train_0.jpg   \n",
       "1    train_1  train_data/train_1.jpg   \n",
       "2    train_2  train_data/train_2.jpg   \n",
       "3    train_3  train_data/train_3.jpg   \n",
       "4    train_4  train_data/train_4.jpg   \n",
       "\n",
       "                                        tags  agriculture  artisinal_mine  \\\n",
       "0                               haze primary            0               0   \n",
       "1            agriculture clear primary water            1               0   \n",
       "2                              clear primary            0               0   \n",
       "3                              clear primary            0               0   \n",
       "4  agriculture clear habitation primary road            1               0   \n",
       "\n",
       "   bare_ground  blooming  blow_down  clear  cloudy  conventional_mine  \\\n",
       "0            0         0          0      0       0                  0   \n",
       "1            0         0          0      1       0                  0   \n",
       "2            0         0          0      1       0                  0   \n",
       "3            0         0          0      1       0                  0   \n",
       "4            0         0          0      1       0                  0   \n",
       "\n",
       "   cultivation  habitation  haze  partly_cloudy  primary  road  \\\n",
       "0            0           0     1              0        1     0   \n",
       "1            0           0     0              0        1     0   \n",
       "2            0           0     0              0        1     0   \n",
       "3            0           0     0              0        1     0   \n",
       "4            0           1     0              0        1     1   \n",
       "\n",
       "   selective_logging  slash_burn  water  \n",
       "0                  0           0      0  \n",
       "1                  0           0      1  \n",
       "2                  0           0      0  \n",
       "3                  0           0      0  \n",
       "4                  0           0      0  "
      ]
     },
     "execution_count": 10,
     "metadata": {},
     "output_type": "execute_result"
    }
   ],
   "source": [
    "labels_df = labels_df[['image_name', 'image_path','tags', 'agriculture', 'artisinal_mine',\n",
    "       'bare_ground', 'blooming', 'blow_down', 'clear', 'cloudy',\n",
    "       'conventional_mine', 'cultivation', 'habitation', 'haze',\n",
    "       'partly_cloudy', 'primary', 'road', 'selective_logging', 'slash_burn',\n",
    "       'water']]\n",
    "\n",
    "# save to file\n",
    "labels_df.to_csv(\"train_data/train_v3.csv\", index=None)\n",
    "\n",
    "# Display head\n",
    "labels_df.head()"
   ]
  },
  {
   "cell_type": "markdown",
   "metadata": {},
   "source": [
    "Next we plot the frequency of occurence for each label"
   ]
  },
  {
   "cell_type": "code",
   "execution_count": 11,
   "metadata": {
    "collapsed": false
   },
   "outputs": [
    {
     "data": {
      "text/plain": [
       "<matplotlib.text.Text at 0x7f7f5734ce48>"
      ]
     },
     "execution_count": 11,
     "metadata": {},
     "output_type": "execute_result"
    },
    {
     "data": {
      "image/png": "[encoded data removed]",
      "text/plain": [
       "<matplotlib.figure.Figure at 0x7f7f572c2d30>"
      ]
     },
     "metadata": {},
     "output_type": "display_data"
    }
   ],
   "source": [
    "# Histogram of label instances\n",
    "labels_df[label_list]\\\n",
    "    .sum()\\\n",
    "    .sort_values()\\\n",
    "    .plot(kind='bar',\n",
    "          title='Tag Values Ordered By Frequency')\n",
    "plt.xlabel(\"Tag Values\")\n",
    "plt.ylabel(\"Frequency\")"
   ]
  },
  {
   "cell_type": "markdown",
   "metadata": {},
   "source": [
    "We can also plot a coocurrence matrix for each of the labels."
   ]
  },
  {
   "cell_type": "code",
   "execution_count": 16,
   "metadata": {
    "collapsed": false
   },
   "outputs": [
    {
     "data": {
      "text/html": [
       "<div>\n",
       "<table border=\"1\" class=\"dataframe\">\n",
       "  <thead>\n",
       "    <tr style=\"text-align: right;\">\n",
       "      <th></th>\n",
       "      <th>agriculture</th>\n",
       "      <th>artisinal_mine</th>\n",
       "      <th>bare_ground</th>\n",
       "      <th>blooming</th>\n",
       "      <th>blow_down</th>\n",
       "      <th>clear</th>\n",
       "      <th>cloudy</th>\n",
       "      <th>conventional_mine</th>\n",
       "      <th>cultivation</th>\n",
       "      <th>habitation</th>\n",
       "      <th>haze</th>\n",
       "      <th>partly_cloudy</th>\n",
       "      <th>primary</th>\n",
       "      <th>road</th>\n",
       "      <th>selective_logging</th>\n",
       "      <th>slash_burn</th>\n",
       "      <th>water</th>\n",
       "    </tr>\n",
       "  </thead>\n",
       "  <tbody>\n",
       "    <tr>\n",
       "      <th>agriculture</th>\n",
       "      <td>12315</td>\n",
       "      <td>38</td>\n",
       "      <td>225</td>\n",
       "      <td>32</td>\n",
       "      <td>22</td>\n",
       "      <td>9150</td>\n",
       "      <td>0</td>\n",
       "      <td>24</td>\n",
       "      <td>3377</td>\n",
       "      <td>2737</td>\n",
       "      <td>672</td>\n",
       "      <td>2493</td>\n",
       "      <td>11972</td>\n",
       "      <td>6034</td>\n",
       "      <td>65</td>\n",
       "      <td>119</td>\n",
       "      <td>2712</td>\n",
       "    </tr>\n",
       "    <tr>\n",
       "      <th>artisinal_mine</th>\n",
       "      <td>38</td>\n",
       "      <td>339</td>\n",
       "      <td>40</td>\n",
       "      <td>0</td>\n",
       "      <td>0</td>\n",
       "      <td>307</td>\n",
       "      <td>0</td>\n",
       "      <td>4</td>\n",
       "      <td>18</td>\n",
       "      <td>29</td>\n",
       "      <td>5</td>\n",
       "      <td>27</td>\n",
       "      <td>324</td>\n",
       "      <td>110</td>\n",
       "      <td>6</td>\n",
       "      <td>0</td>\n",
       "      <td>299</td>\n",
       "    </tr>\n",
       "    <tr>\n",
       "      <th>bare_ground</th>\n",
       "      <td>225</td>\n",
       "      <td>40</td>\n",
       "      <td>862</td>\n",
       "      <td>3</td>\n",
       "      <td>4</td>\n",
       "      <td>747</td>\n",
       "      <td>0</td>\n",
       "      <td>10</td>\n",
       "      <td>89</td>\n",
       "      <td>163</td>\n",
       "      <td>41</td>\n",
       "      <td>74</td>\n",
       "      <td>683</td>\n",
       "      <td>323</td>\n",
       "      <td>13</td>\n",
       "      <td>10</td>\n",
       "      <td>206</td>\n",
       "    </tr>\n",
       "    <tr>\n",
       "      <th>blooming</th>\n",
       "      <td>32</td>\n",
       "      <td>0</td>\n",
       "      <td>3</td>\n",
       "      <td>332</td>\n",
       "      <td>1</td>\n",
       "      <td>311</td>\n",
       "      <td>0</td>\n",
       "      <td>0</td>\n",
       "      <td>35</td>\n",
       "      <td>4</td>\n",
       "      <td>4</td>\n",
       "      <td>17</td>\n",
       "      <td>332</td>\n",
       "      <td>10</td>\n",
       "      <td>7</td>\n",
       "      <td>2</td>\n",
       "      <td>16</td>\n",
       "    </tr>\n",
       "    <tr>\n",
       "      <th>blow_down</th>\n",
       "      <td>22</td>\n",
       "      <td>0</td>\n",
       "      <td>4</td>\n",
       "      <td>1</td>\n",
       "      <td>98</td>\n",
       "      <td>85</td>\n",
       "      <td>0</td>\n",
       "      <td>0</td>\n",
       "      <td>8</td>\n",
       "      <td>3</td>\n",
       "      <td>0</td>\n",
       "      <td>13</td>\n",
       "      <td>98</td>\n",
       "      <td>2</td>\n",
       "      <td>1</td>\n",
       "      <td>2</td>\n",
       "      <td>3</td>\n",
       "    </tr>\n",
       "    <tr>\n",
       "      <th>clear</th>\n",
       "      <td>9150</td>\n",
       "      <td>307</td>\n",
       "      <td>747</td>\n",
       "      <td>311</td>\n",
       "      <td>85</td>\n",
       "      <td>28431</td>\n",
       "      <td>0</td>\n",
       "      <td>70</td>\n",
       "      <td>3527</td>\n",
       "      <td>3090</td>\n",
       "      <td>0</td>\n",
       "      <td>0</td>\n",
       "      <td>27668</td>\n",
       "      <td>6295</td>\n",
       "      <td>308</td>\n",
       "      <td>173</td>\n",
       "      <td>5502</td>\n",
       "    </tr>\n",
       "    <tr>\n",
       "      <th>cloudy</th>\n",
       "      <td>0</td>\n",
       "      <td>0</td>\n",
       "      <td>0</td>\n",
       "      <td>0</td>\n",
       "      <td>0</td>\n",
       "      <td>0</td>\n",
       "      <td>2089</td>\n",
       "      <td>0</td>\n",
       "      <td>0</td>\n",
       "      <td>0</td>\n",
       "      <td>0</td>\n",
       "      <td>0</td>\n",
       "      <td>0</td>\n",
       "      <td>0</td>\n",
       "      <td>0</td>\n",
       "      <td>0</td>\n",
       "      <td>0</td>\n",
       "    </tr>\n",
       "    <tr>\n",
       "      <th>conventional_mine</th>\n",
       "      <td>24</td>\n",
       "      <td>4</td>\n",
       "      <td>10</td>\n",
       "      <td>0</td>\n",
       "      <td>0</td>\n",
       "      <td>70</td>\n",
       "      <td>0</td>\n",
       "      <td>100</td>\n",
       "      <td>4</td>\n",
       "      <td>36</td>\n",
       "      <td>2</td>\n",
       "      <td>28</td>\n",
       "      <td>94</td>\n",
       "      <td>59</td>\n",
       "      <td>0</td>\n",
       "      <td>0</td>\n",
       "      <td>26</td>\n",
       "    </tr>\n",
       "    <tr>\n",
       "      <th>cultivation</th>\n",
       "      <td>3377</td>\n",
       "      <td>18</td>\n",
       "      <td>89</td>\n",
       "      <td>35</td>\n",
       "      <td>8</td>\n",
       "      <td>3527</td>\n",
       "      <td>0</td>\n",
       "      <td>4</td>\n",
       "      <td>4477</td>\n",
       "      <td>895</td>\n",
       "      <td>202</td>\n",
       "      <td>748</td>\n",
       "      <td>4455</td>\n",
       "      <td>1294</td>\n",
       "      <td>58</td>\n",
       "      <td>126</td>\n",
       "      <td>868</td>\n",
       "    </tr>\n",
       "    <tr>\n",
       "      <th>habitation</th>\n",
       "      <td>2737</td>\n",
       "      <td>29</td>\n",
       "      <td>163</td>\n",
       "      <td>4</td>\n",
       "      <td>3</td>\n",
       "      <td>3090</td>\n",
       "      <td>0</td>\n",
       "      <td>36</td>\n",
       "      <td>895</td>\n",
       "      <td>3660</td>\n",
       "      <td>129</td>\n",
       "      <td>441</td>\n",
       "      <td>3469</td>\n",
       "      <td>2786</td>\n",
       "      <td>13</td>\n",
       "      <td>41</td>\n",
       "      <td>915</td>\n",
       "    </tr>\n",
       "    <tr>\n",
       "      <th>haze</th>\n",
       "      <td>672</td>\n",
       "      <td>5</td>\n",
       "      <td>41</td>\n",
       "      <td>4</td>\n",
       "      <td>0</td>\n",
       "      <td>0</td>\n",
       "      <td>0</td>\n",
       "      <td>2</td>\n",
       "      <td>202</td>\n",
       "      <td>129</td>\n",
       "      <td>2697</td>\n",
       "      <td>0</td>\n",
       "      <td>2670</td>\n",
       "      <td>394</td>\n",
       "      <td>5</td>\n",
       "      <td>3</td>\n",
       "      <td>613</td>\n",
       "    </tr>\n",
       "    <tr>\n",
       "      <th>partly_cloudy</th>\n",
       "      <td>2493</td>\n",
       "      <td>27</td>\n",
       "      <td>74</td>\n",
       "      <td>17</td>\n",
       "      <td>13</td>\n",
       "      <td>0</td>\n",
       "      <td>0</td>\n",
       "      <td>28</td>\n",
       "      <td>748</td>\n",
       "      <td>441</td>\n",
       "      <td>0</td>\n",
       "      <td>7261</td>\n",
       "      <td>7175</td>\n",
       "      <td>1382</td>\n",
       "      <td>27</td>\n",
       "      <td>33</td>\n",
       "      <td>1295</td>\n",
       "    </tr>\n",
       "    <tr>\n",
       "      <th>primary</th>\n",
       "      <td>11972</td>\n",
       "      <td>324</td>\n",
       "      <td>683</td>\n",
       "      <td>332</td>\n",
       "      <td>98</td>\n",
       "      <td>27668</td>\n",
       "      <td>0</td>\n",
       "      <td>94</td>\n",
       "      <td>4455</td>\n",
       "      <td>3469</td>\n",
       "      <td>2670</td>\n",
       "      <td>7175</td>\n",
       "      <td>37513</td>\n",
       "      <td>7728</td>\n",
       "      <td>340</td>\n",
       "      <td>209</td>\n",
       "      <td>7001</td>\n",
       "    </tr>\n",
       "    <tr>\n",
       "      <th>road</th>\n",
       "      <td>6034</td>\n",
       "      <td>110</td>\n",
       "      <td>323</td>\n",
       "      <td>10</td>\n",
       "      <td>2</td>\n",
       "      <td>6295</td>\n",
       "      <td>0</td>\n",
       "      <td>59</td>\n",
       "      <td>1294</td>\n",
       "      <td>2786</td>\n",
       "      <td>394</td>\n",
       "      <td>1382</td>\n",
       "      <td>7728</td>\n",
       "      <td>8071</td>\n",
       "      <td>151</td>\n",
       "      <td>36</td>\n",
       "      <td>2125</td>\n",
       "    </tr>\n",
       "    <tr>\n",
       "      <th>selective_logging</th>\n",
       "      <td>65</td>\n",
       "      <td>6</td>\n",
       "      <td>13</td>\n",
       "      <td>7</td>\n",
       "      <td>1</td>\n",
       "      <td>308</td>\n",
       "      <td>0</td>\n",
       "      <td>0</td>\n",
       "      <td>58</td>\n",
       "      <td>13</td>\n",
       "      <td>5</td>\n",
       "      <td>27</td>\n",
       "      <td>340</td>\n",
       "      <td>151</td>\n",
       "      <td>340</td>\n",
       "      <td>2</td>\n",
       "      <td>49</td>\n",
       "    </tr>\n",
       "    <tr>\n",
       "      <th>slash_burn</th>\n",
       "      <td>119</td>\n",
       "      <td>0</td>\n",
       "      <td>10</td>\n",
       "      <td>2</td>\n",
       "      <td>2</td>\n",
       "      <td>173</td>\n",
       "      <td>0</td>\n",
       "      <td>0</td>\n",
       "      <td>126</td>\n",
       "      <td>41</td>\n",
       "      <td>3</td>\n",
       "      <td>33</td>\n",
       "      <td>209</td>\n",
       "      <td>36</td>\n",
       "      <td>2</td>\n",
       "      <td>209</td>\n",
       "      <td>24</td>\n",
       "    </tr>\n",
       "    <tr>\n",
       "      <th>water</th>\n",
       "      <td>2712</td>\n",
       "      <td>299</td>\n",
       "      <td>206</td>\n",
       "      <td>16</td>\n",
       "      <td>3</td>\n",
       "      <td>5502</td>\n",
       "      <td>0</td>\n",
       "      <td>26</td>\n",
       "      <td>868</td>\n",
       "      <td>915</td>\n",
       "      <td>613</td>\n",
       "      <td>1295</td>\n",
       "      <td>7001</td>\n",
       "      <td>2125</td>\n",
       "      <td>49</td>\n",
       "      <td>24</td>\n",
       "      <td>7411</td>\n",
       "    </tr>\n",
       "  </tbody>\n",
       "</table>\n",
       "</div>"
      ],
      "text/plain": [
       "                   agriculture  artisinal_mine  bare_ground  blooming  \\\n",
       "agriculture              12315              38          225        32   \n",
       "artisinal_mine              38             339           40         0   \n",
       "bare_ground                225              40          862         3   \n",
       "blooming                    32               0            3       332   \n",
       "blow_down                   22               0            4         1   \n",
       "clear                     9150             307          747       311   \n",
       "cloudy                       0               0            0         0   \n",
       "conventional_mine           24               4           10         0   \n",
       "cultivation               3377              18           89        35   \n",
       "habitation                2737              29          163         4   \n",
       "haze                       672               5           41         4   \n",
       "partly_cloudy             2493              27           74        17   \n",
       "primary                  11972             324          683       332   \n",
       "road                      6034             110          323        10   \n",
       "selective_logging           65               6           13         7   \n",
       "slash_burn                 119               0           10         2   \n",
       "water                     2712             299          206        16   \n",
       "\n",
       "                   blow_down  clear  cloudy  conventional_mine  cultivation  \\\n",
       "agriculture               22   9150       0                 24         3377   \n",
       "artisinal_mine             0    307       0                  4           18   \n",
       "bare_ground                4    747       0                 10           89   \n",
       "blooming                   1    311       0                  0           35   \n",
       "blow_down                 98     85       0                  0            8   \n",
       "clear                     85  28431       0                 70         3527   \n",
       "cloudy                     0      0    2089                  0            0   \n",
       "conventional_mine          0     70       0                100            4   \n",
       "cultivation                8   3527       0                  4         4477   \n",
       "habitation                 3   3090       0                 36          895   \n",
       "haze                       0      0       0                  2          202   \n",
       "partly_cloudy             13      0       0                 28          748   \n",
       "primary                   98  27668       0                 94         4455   \n",
       "road                       2   6295       0                 59         1294   \n",
       "selective_logging          1    308       0                  0           58   \n",
       "slash_burn                 2    173       0                  0          126   \n",
       "water                      3   5502       0                 26          868   \n",
       "\n",
       "                   habitation  haze  partly_cloudy  primary  road  \\\n",
       "agriculture              2737   672           2493    11972  6034   \n",
       "artisinal_mine             29     5             27      324   110   \n",
       "bare_ground               163    41             74      683   323   \n",
       "blooming                    4     4             17      332    10   \n",
       "blow_down                   3     0             13       98     2   \n",
       "clear                    3090     0              0    27668  6295   \n",
       "cloudy                      0     0              0        0     0   \n",
       "conventional_mine          36     2             28       94    59   \n",
       "cultivation               895   202            748     4455  1294   \n",
       "habitation               3660   129            441     3469  2786   \n",
       "haze                      129  2697              0     2670   394   \n",
       "partly_cloudy             441     0           7261     7175  1382   \n",
       "primary                  3469  2670           7175    37513  7728   \n",
       "road                     2786   394           1382     7728  8071   \n",
       "selective_logging          13     5             27      340   151   \n",
       "slash_burn                 41     3             33      209    36   \n",
       "water                     915   613           1295     7001  2125   \n",
       "\n",
       "                   selective_logging  slash_burn  water  \n",
       "agriculture                       65         119   2712  \n",
       "artisinal_mine                     6           0    299  \n",
       "bare_ground                       13          10    206  \n",
       "blooming                           7           2     16  \n",
       "blow_down                          1           2      3  \n",
       "clear                            308         173   5502  \n",
       "cloudy                             0           0      0  \n",
       "conventional_mine                  0           0     26  \n",
       "cultivation                       58         126    868  \n",
       "habitation                        13          41    915  \n",
       "haze                               5           3    613  \n",
       "partly_cloudy                     27          33   1295  \n",
       "primary                          340         209   7001  \n",
       "road                             151          36   2125  \n",
       "selective_logging                340           2     49  \n",
       "slash_burn                         2         209     24  \n",
       "water                             49          24   7411  "
      ]
     },
     "execution_count": 16,
     "metadata": {},
     "output_type": "execute_result"
    },
    {
     "data": {
      "image/png": "[encoded data removed]",
      "text/plain": [
       "<matplotlib.figure.Figure at 0x7f7f567cbb00>"
      ]
     },
     "metadata": {},
     "output_type": "display_data"
    }
   ],
   "source": [
    "def make_cooccurence_matrix(labels, logplot=False):\n",
    "    numeric_df = labels_df[labels]; \n",
    "    c_matrix = numeric_df.T.dot(numeric_df)\n",
    "    \n",
    "    if logplot:\n",
    "        sns.heatmap(c_matrix.apply(lambda x: np.log10(x+1)))\n",
    "    else:\n",
    "        sns.heatmap(c_matrix)\n",
    "    return c_matrix\n",
    "\n",
    "# Compute the co-ocurrence matrix\n",
    "make_cooccurence_matrix(label_list, logplot=True)"
   ]
  },
  {
   "cell_type": "markdown",
   "metadata": {},
   "source": [
    "Each image should have exactly one weather label"
   ]
  },
  {
   "cell_type": "code",
   "execution_count": 34,
   "metadata": {
    "collapsed": false
   },
   "outputs": [
    {
     "data": {
      "text/html": [
       "<div>\n",
       "<table border=\"1\" class=\"dataframe\">\n",
       "  <thead>\n",
       "    <tr style=\"text-align: right;\">\n",
       "      <th></th>\n",
       "      <th>clear</th>\n",
       "      <th>partly_cloudy</th>\n",
       "      <th>haze</th>\n",
       "      <th>cloudy</th>\n",
       "    </tr>\n",
       "  </thead>\n",
       "  <tbody>\n",
       "    <tr>\n",
       "      <th>clear</th>\n",
       "      <td>28431</td>\n",
       "      <td>0</td>\n",
       "      <td>0</td>\n",
       "      <td>0</td>\n",
       "    </tr>\n",
       "    <tr>\n",
       "      <th>partly_cloudy</th>\n",
       "      <td>0</td>\n",
       "      <td>7261</td>\n",
       "      <td>0</td>\n",
       "      <td>0</td>\n",
       "    </tr>\n",
       "    <tr>\n",
       "      <th>haze</th>\n",
       "      <td>0</td>\n",
       "      <td>0</td>\n",
       "      <td>2697</td>\n",
       "      <td>0</td>\n",
       "    </tr>\n",
       "    <tr>\n",
       "      <th>cloudy</th>\n",
       "      <td>0</td>\n",
       "      <td>0</td>\n",
       "      <td>0</td>\n",
       "      <td>2089</td>\n",
       "    </tr>\n",
       "  </tbody>\n",
       "</table>\n",
       "</div>"
      ],
      "text/plain": [
       "               clear  partly_cloudy  haze  cloudy\n",
       "clear          28431              0     0       0\n",
       "partly_cloudy      0           7261     0       0\n",
       "haze               0              0  2697       0\n",
       "cloudy             0              0     0    2089"
      ]
     },
     "execution_count": 34,
     "metadata": {},
     "output_type": "execute_result"
    },
    {
     "data": {
      "image/png": "[encoded data removed]",
      "text/plain": [
       "<matplotlib.figure.Figure at 0x7f0e8a2daf28>"
      ]
     },
     "metadata": {},
     "output_type": "display_data"
    }
   ],
   "source": [
    "weather_labels = ['clear', 'partly_cloudy', 'haze', 'cloudy']\n",
    "make_cooccurence_matrix(weather_labels)"
   ]
  },
  {
   "cell_type": "markdown",
   "metadata": {},
   "source": [
    "But the land labels may overlap:"
   ]
  },
  {
   "cell_type": "code",
   "execution_count": 18,
   "metadata": {
    "collapsed": false
   },
   "outputs": [
    {
     "data": {
      "text/html": [
       "<div>\n",
       "<table border=\"1\" class=\"dataframe\">\n",
       "  <thead>\n",
       "    <tr style=\"text-align: right;\">\n",
       "      <th></th>\n",
       "      <th>primary</th>\n",
       "      <th>agriculture</th>\n",
       "      <th>water</th>\n",
       "      <th>cultivation</th>\n",
       "      <th>habitation</th>\n",
       "    </tr>\n",
       "  </thead>\n",
       "  <tbody>\n",
       "    <tr>\n",
       "      <th>primary</th>\n",
       "      <td>37513</td>\n",
       "      <td>11972</td>\n",
       "      <td>7001</td>\n",
       "      <td>4455</td>\n",
       "      <td>3469</td>\n",
       "    </tr>\n",
       "    <tr>\n",
       "      <th>agriculture</th>\n",
       "      <td>11972</td>\n",
       "      <td>12315</td>\n",
       "      <td>2712</td>\n",
       "      <td>3377</td>\n",
       "      <td>2737</td>\n",
       "    </tr>\n",
       "    <tr>\n",
       "      <th>water</th>\n",
       "      <td>7001</td>\n",
       "      <td>2712</td>\n",
       "      <td>7411</td>\n",
       "      <td>868</td>\n",
       "      <td>915</td>\n",
       "    </tr>\n",
       "    <tr>\n",
       "      <th>cultivation</th>\n",
       "      <td>4455</td>\n",
       "      <td>3377</td>\n",
       "      <td>868</td>\n",
       "      <td>4477</td>\n",
       "      <td>895</td>\n",
       "    </tr>\n",
       "    <tr>\n",
       "      <th>habitation</th>\n",
       "      <td>3469</td>\n",
       "      <td>2737</td>\n",
       "      <td>915</td>\n",
       "      <td>895</td>\n",
       "      <td>3660</td>\n",
       "    </tr>\n",
       "  </tbody>\n",
       "</table>\n",
       "</div>"
      ],
      "text/plain": [
       "             primary  agriculture  water  cultivation  habitation\n",
       "primary        37513        11972   7001         4455        3469\n",
       "agriculture    11972        12315   2712         3377        2737\n",
       "water           7001         2712   7411          868         915\n",
       "cultivation     4455         3377    868         4477         895\n",
       "habitation      3469         2737    915          895        3660"
      ]
     },
     "execution_count": 18,
     "metadata": {},
     "output_type": "execute_result"
    },
    {
     "data": {
      "image/png": "[encoded data removed]",
      "text/plain": [
       "<matplotlib.figure.Figure at 0x7f7f5663d160>"
      ]
     },
     "metadata": {},
     "output_type": "display_data"
    }
   ],
   "source": [
    "land_labels = ['primary', 'agriculture', 'water', 'cultivation', 'habitation']\n",
    "make_cooccurence_matrix(land_labels)"
   ]
  },
  {
   "cell_type": "markdown",
   "metadata": {},
   "source": [
    "The rarer labels have very little overlap:"
   ]
  },
  {
   "cell_type": "code",
   "execution_count": 27,
   "metadata": {
    "collapsed": false
   },
   "outputs": [
    {
     "data": {
      "text/html": [
       "<div>\n",
       "<table border=\"1\" class=\"dataframe\">\n",
       "  <thead>\n",
       "    <tr style=\"text-align: right;\">\n",
       "      <th></th>\n",
       "      <th>artisinal_mine</th>\n",
       "      <th>bare_ground</th>\n",
       "      <th>blooming</th>\n",
       "      <th>blow_down</th>\n",
       "      <th>conventional_mine</th>\n",
       "      <th>selective_logging</th>\n",
       "      <th>slash_burn</th>\n",
       "    </tr>\n",
       "  </thead>\n",
       "  <tbody>\n",
       "    <tr>\n",
       "      <th>artisinal_mine</th>\n",
       "      <td>339</td>\n",
       "      <td>40</td>\n",
       "      <td>0</td>\n",
       "      <td>0</td>\n",
       "      <td>4</td>\n",
       "      <td>6</td>\n",
       "      <td>0</td>\n",
       "    </tr>\n",
       "    <tr>\n",
       "      <th>bare_ground</th>\n",
       "      <td>40</td>\n",
       "      <td>862</td>\n",
       "      <td>3</td>\n",
       "      <td>4</td>\n",
       "      <td>10</td>\n",
       "      <td>13</td>\n",
       "      <td>10</td>\n",
       "    </tr>\n",
       "    <tr>\n",
       "      <th>blooming</th>\n",
       "      <td>0</td>\n",
       "      <td>3</td>\n",
       "      <td>332</td>\n",
       "      <td>1</td>\n",
       "      <td>0</td>\n",
       "      <td>7</td>\n",
       "      <td>2</td>\n",
       "    </tr>\n",
       "    <tr>\n",
       "      <th>blow_down</th>\n",
       "      <td>0</td>\n",
       "      <td>4</td>\n",
       "      <td>1</td>\n",
       "      <td>98</td>\n",
       "      <td>0</td>\n",
       "      <td>1</td>\n",
       "      <td>2</td>\n",
       "    </tr>\n",
       "    <tr>\n",
       "      <th>conventional_mine</th>\n",
       "      <td>4</td>\n",
       "      <td>10</td>\n",
       "      <td>0</td>\n",
       "      <td>0</td>\n",
       "      <td>100</td>\n",
       "      <td>0</td>\n",
       "      <td>0</td>\n",
       "    </tr>\n",
       "    <tr>\n",
       "      <th>selective_logging</th>\n",
       "      <td>6</td>\n",
       "      <td>13</td>\n",
       "      <td>7</td>\n",
       "      <td>1</td>\n",
       "      <td>0</td>\n",
       "      <td>340</td>\n",
       "      <td>2</td>\n",
       "    </tr>\n",
       "    <tr>\n",
       "      <th>slash_burn</th>\n",
       "      <td>0</td>\n",
       "      <td>10</td>\n",
       "      <td>2</td>\n",
       "      <td>2</td>\n",
       "      <td>0</td>\n",
       "      <td>2</td>\n",
       "      <td>209</td>\n",
       "    </tr>\n",
       "  </tbody>\n",
       "</table>\n",
       "</div>"
      ],
      "text/plain": [
       "                   artisinal_mine  bare_ground  blooming  blow_down  \\\n",
       "artisinal_mine                339           40         0          0   \n",
       "bare_ground                    40          862         3          4   \n",
       "blooming                        0            3       332          1   \n",
       "blow_down                       0            4         1         98   \n",
       "conventional_mine               4           10         0          0   \n",
       "selective_logging               6           13         7          1   \n",
       "slash_burn                      0           10         2          2   \n",
       "\n",
       "                   conventional_mine  selective_logging  slash_burn  \n",
       "artisinal_mine                     4                  6           0  \n",
       "bare_ground                       10                 13          10  \n",
       "blooming                           0                  7           2  \n",
       "blow_down                          0                  1           2  \n",
       "conventional_mine                100                  0           0  \n",
       "selective_logging                  0                340           2  \n",
       "slash_burn                         0                  2         209  "
      ]
     },
     "execution_count": 27,
     "metadata": {},
     "output_type": "execute_result"
    },
    {
     "data": {
      "image/png": "[encoded data removed]",
      "text/plain": [
       "<matplotlib.figure.Figure at 0x7f0e8ad7b0b8>"
      ]
     },
     "metadata": {},
     "output_type": "display_data"
    }
   ],
   "source": [
    "rare_labels = [l for l in label_list if labels_df[label_list].sum()[l] < 2000]\n",
    "make_cooccurence_matrix(rare_labels)"
   ]
  },
  {
   "cell_type": "code",
   "execution_count": null,
   "metadata": {
    "collapsed": true
   },
   "outputs": [],
   "source": []
  },
  {
   "cell_type": "code",
   "execution_count": null,
   "metadata": {
    "collapsed": true
   },
   "outputs": [],
   "source": []
  },
  {
   "cell_type": "code",
   "execution_count": null,
   "metadata": {
    "collapsed": true
   },
   "outputs": [],
   "source": []
  },
  {
   "cell_type": "code",
   "execution_count": null,
   "metadata": {
    "collapsed": true
   },
   "outputs": [],
   "source": []
  },
  {
   "cell_type": "code",
   "execution_count": null,
   "metadata": {
    "collapsed": true
   },
   "outputs": [],
   "source": []
  },
  {
   "cell_type": "code",
   "execution_count": null,
   "metadata": {
    "collapsed": true
   },
   "outputs": [],
   "source": []
  },
  {
   "cell_type": "code",
   "execution_count": null,
   "metadata": {
    "collapsed": true
   },
   "outputs": [],
   "source": []
  },
  {
   "cell_type": "code",
   "execution_count": null,
   "metadata": {
    "collapsed": true
   },
   "outputs": [],
   "source": []
  },
  {
   "cell_type": "code",
   "execution_count": null,
   "metadata": {
    "collapsed": true
   },
   "outputs": [],
   "source": []
  }
 ],
 "metadata": {
  "kernelspec": {
   "display_name": "Python 3",
   "language": "python",
   "name": "python3"
  },
  "language_info": {
   "codemirror_mode": {
    "name": "ipython",
    "version": 3
   },
   "file_extension": ".py",
   "mimetype": "text/x-python",
   "name": "python",
   "nbconvert_exporter": "python",
   "pygments_lexer": "ipython3",
   "version": "3.6.0"
  }
 },
 "nbformat": 4,
 "nbformat_minor": 2
}
